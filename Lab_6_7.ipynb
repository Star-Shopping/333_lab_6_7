{
 "cells": [
  {
   "cell_type": "markdown",
   "metadata": {},
   "source": [
    "# 1. Data Acquistion"
   ]
  },
  {
   "cell_type": "code",
   "execution_count": 1,
   "metadata": {},
   "outputs": [],
   "source": [
    "import urllib.request\n",
    "import os\n",
    "\n",
    "#Creating data folder\n",
    "if not os.path.exists('./data'):\n",
    "    os.makedirs('./data')\n",
    "    \n",
    "# Downloading dataset using the url that hosts it\n",
    "kaggle_url = 'https://github.com/sundeepblue/movie_rating_prediction/raw/master/movie_metadata.csv'\n",
    "if not os.path.exists('/data/kaggle_dataset.csv'):\n",
    "    data = urllib.request.urlretrieve(kaggle_url, './data/kaggle_dataset.csv')\n",
    "\n",
    " "
   ]
  },
  {
   "cell_type": "code",
   "execution_count": 2,
   "metadata": {},
   "outputs": [],
   "source": [
    "import gzip\n",
    "\n",
    "#Obtaining IMDB's text files that are zipped winrar\n",
    "imdb_url_prefix = 'https://ftp.funet.fi/pub/mirrors/ftp.imdb.com/pub/frozendata/'\n",
    "imdb_files_list = ['genres.list.gz', 'ratings.list.gz']\n",
    "\n",
    "for name in imdb_files_list:\n",
    "    if not os.path.exists('./data/' + name):\n",
    "        data = urllib.request.urlretrieve(imdb_url_prefix + name, './data/' + name)\n",
    "        urllib.request.urlcleanup() # urllib fails to download two files from a ftp source. This fixes the bug!\n",
    "        with gzip.open('./data/' + name, 'rb') as comp_file, open('./data/' + name[:-3], 'wb') as reg_file:   #'w' alone doesn't work because you are reading binary, so you have to write binary, so use 'wb'\n",
    "            file_content = comp_file.read()\n",
    "            reg_file.write(file_content)\n",
    "            \n",
    "# Error WHY DO I HAVE TO RUN THIS TWICE< IT WONT DOWNLOAD BOTH FILES SAME TIME"
   ]
  },
  {
   "cell_type": "code",
   "execution_count": 3,
   "metadata": {},
   "outputs": [],
   "source": [
    "imdb_url = 'https://anaconda.org/BigGorilla/datasets/1/download/imdb_dataset.csv'\n",
    "\n",
    "if not os.path.exists('./data/imdb_dataset.csv'):  #Avoids downloading if it already exists\n",
    "    headers = {'User-Agent':'Mozilla/5.0 (Windows NT 6.1; WOW64; rv:23.0) Gecko/20100101 Firefox/23.0'}\n",
    "    req = urllib.request.Request(url=imdb_url, headers=headers) #To fix HTTP error 403: Forbidden\n",
    "    data = urllib.request.urlopen(req).read()\n",
    "    \n",
    "    with open(\"./data/imdb_dataset.csv\", \"wb\") as f:\n",
    "        f.write(data)"
   ]
  },
  {
   "cell_type": "markdown",
   "metadata": {},
   "source": [
    "# 2.Data Extraction"
   ]
  },
  {
   "cell_type": "markdown",
   "metadata": {},
   "source": [
    "The “Kaggle 5000 Movie Dataset” is stored in a .csv file which is already structured and ready to use. On the other hand, the “IMDB Plain Text Data” is a collection of semi-structured text files that need to be processed to extract the data. A quick look at the first few lines of each files shows that each file has a different format and has to be handled separately."
   ]
  },
  {
   "cell_type": "markdown",
   "metadata": {},
   "source": [
    "**Contents of \"ratings.list\" file**"
   ]
  },
  {
   "cell_type": "code",
   "execution_count": 4,
   "metadata": {
    "scrolled": true
   },
   "outputs": [
    {
     "name": "stdout",
     "output_type": "stream",
     "text": [
      "      0000000125  1888533   9.2  The Shawshank Redemption (1994)\n",
      "      0000000125  1289428   9.2  The Godfather (1972)\n",
      "      0000000124  889607   9.0  The Godfather: Part II (1974)\n",
      "      0000000124  1864164   9.0  The Dark Knight (2008)\n",
      "      0000000133  518449   8.9  12 Angry Men (1957)\n",
      "      0000000133  971107   8.9  Schindler's List (1993)\n",
      "      0000000123  1477112   8.9  Pulp Fiction (1994)\n",
      "      0000000124  1349449   8.9  The Lord of the Rings: The Return of the King (2003)\n",
      "      0000000123  559468   8.8  Il buono, il brutto, il cattivo (1966)\n",
      "      0000000133  1513600   8.8  Fight Club (1999)\n",
      "\n"
     ]
    }
   ],
   "source": [
    "with open(\"./data/ratings.list\") as f:\n",
    "    head = [next(f) for x in range(38)]\n",
    "print(''.join(head[28:38]))  #Skip the first 28 lines cuz they are descriptive headers"
   ]
  },
  {
   "cell_type": "markdown",
   "metadata": {},
   "source": [
    "**Conents of \"genres.list\" file**"
   ]
  },
  {
   "cell_type": "code",
   "execution_count": 5,
   "metadata": {},
   "outputs": [
    {
     "name": "stdout",
     "output_type": "stream",
     "text": [
      "==================\n",
      "\n",
      "\"!Next?\" (1994)\t\t\t\t\t\tDocumentary\n",
      "\"#1 Single\" (2006)\t\t\t\t\tReality-TV\n",
      "\"#15SecondScare\" (2015)\t\t\t\t\tHorror\n",
      "\"#15SecondScare\" (2015)\t\t\t\t\tShort\n",
      "\"#15SecondScare\" (2015)\t\t\t\t\tThriller\n",
      "\"#15SecondScare\" (2015) {Who Wants to Play with the Rabbit? (#1.2)}\tDrama\n",
      "\"#15SecondScare\" (2015) {Who Wants to Play with the Rabbit? (#1.2)}\tHorror\n",
      "\"#15SecondScare\" (2015) {Who Wants to Play with the Rabbit? (#1.2)}\tShort\n",
      "\n"
     ]
    }
   ],
   "source": [
    "with open('./data/genres.list') as f:\n",
    "    head = [next(f) for x in range(392)]\n",
    "print(''.join(head[382:392]))  # skipping the first 382 lines as they are descriptive header"
   ]
  },
  {
   "cell_type": "markdown",
   "metadata": {},
   "source": [
    "**Extracing info from \"genres.list\"**"
   ]
  },
  {
   "cell_type": "code",
   "execution_count": 10,
   "metadata": {},
   "outputs": [],
   "source": [
    "import re\n",
    "import pandas as pd\n",
    "\n",
    "with open(\"./data/genres.list\") as genres_file:\n",
    "    raw_content = genres_file.readlines()\n",
    "    genres_list = []         #List that will contain lists for each [movie,year,genre]\n",
    "    content = raw_content[384:]\n",
    "    for line in content:\n",
    "            #print(line.strip())\n",
    "            m = re.match(r'\"?(.*[^\"])\"? \\(((?:\\d|\\?){4})(?:/\\w*)?\\).*\\s((?:\\w|-)+)', line.strip())\n",
    "            #print(m.group(1), m.group(2), m.group(3))\n",
    "            genres_list.append([m.group(1), m.group(2), m.group(3)])\n",
    "            \n",
    "    genres_data = pd.DataFrame(genres_list, columns=['movie', 'year', 'genre'])"
   ]
  },
  {
   "cell_type": "code",
   "execution_count": 12,
   "metadata": {},
   "outputs": [
    {
     "data": {
      "text/html": [
       "<div>\n",
       "<style scoped>\n",
       "    .dataframe tbody tr th:only-of-type {\n",
       "        vertical-align: middle;\n",
       "    }\n",
       "\n",
       "    .dataframe tbody tr th {\n",
       "        vertical-align: top;\n",
       "    }\n",
       "\n",
       "    .dataframe thead th {\n",
       "        text-align: right;\n",
       "    }\n",
       "</style>\n",
       "<table border=\"1\" class=\"dataframe\">\n",
       "  <thead>\n",
       "    <tr style=\"text-align: right;\">\n",
       "      <th></th>\n",
       "      <th>movie</th>\n",
       "      <th>year</th>\n",
       "      <th>genre</th>\n",
       "    </tr>\n",
       "  </thead>\n",
       "  <tbody>\n",
       "    <tr>\n",
       "      <th>0</th>\n",
       "      <td>!Next?</td>\n",
       "      <td>1994</td>\n",
       "      <td>Documentary</td>\n",
       "    </tr>\n",
       "    <tr>\n",
       "      <th>1</th>\n",
       "      <td>#1 Single</td>\n",
       "      <td>2006</td>\n",
       "      <td>Reality-TV</td>\n",
       "    </tr>\n",
       "    <tr>\n",
       "      <th>2</th>\n",
       "      <td>#15SecondScare</td>\n",
       "      <td>2015</td>\n",
       "      <td>Horror</td>\n",
       "    </tr>\n",
       "    <tr>\n",
       "      <th>3</th>\n",
       "      <td>#15SecondScare</td>\n",
       "      <td>2015</td>\n",
       "      <td>Short</td>\n",
       "    </tr>\n",
       "    <tr>\n",
       "      <th>4</th>\n",
       "      <td>#15SecondScare</td>\n",
       "      <td>2015</td>\n",
       "      <td>Thriller</td>\n",
       "    </tr>\n",
       "    <tr>\n",
       "      <th>...</th>\n",
       "      <td>...</td>\n",
       "      <td>...</td>\n",
       "      <td>...</td>\n",
       "    </tr>\n",
       "    <tr>\n",
       "      <th>2658936</th>\n",
       "      <td>überRICH</td>\n",
       "      <td>2017</td>\n",
       "      <td>Comedy</td>\n",
       "    </tr>\n",
       "    <tr>\n",
       "      <th>2658937</th>\n",
       "      <td>überRICH</td>\n",
       "      <td>2017</td>\n",
       "      <td>Short</td>\n",
       "    </tr>\n",
       "    <tr>\n",
       "      <th>2658938</th>\n",
       "      <td>üç</td>\n",
       "      <td>2012</td>\n",
       "      <td>Adventure</td>\n",
       "    </tr>\n",
       "    <tr>\n",
       "      <th>2658939</th>\n",
       "      <td>üç</td>\n",
       "      <td>2012</td>\n",
       "      <td>Comedy</td>\n",
       "    </tr>\n",
       "    <tr>\n",
       "      <th>2658940</th>\n",
       "      <td>üç</td>\n",
       "      <td>2012</td>\n",
       "      <td>Short</td>\n",
       "    </tr>\n",
       "  </tbody>\n",
       "</table>\n",
       "<p>2658941 rows × 3 columns</p>\n",
       "</div>"
      ],
      "text/plain": [
       "                  movie  year        genre\n",
       "0                !Next?  1994  Documentary\n",
       "1             #1 Single  2006   Reality-TV\n",
       "2        #15SecondScare  2015       Horror\n",
       "3        #15SecondScare  2015        Short\n",
       "4        #15SecondScare  2015     Thriller\n",
       "...                 ...   ...          ...\n",
       "2658936        überRICH  2017       Comedy\n",
       "2658937        überRICH  2017        Short\n",
       "2658938              üç  2012    Adventure\n",
       "2658939              üç  2012       Comedy\n",
       "2658940              üç  2012        Short\n",
       "\n",
       "[2658941 rows x 3 columns]"
      ]
     },
     "execution_count": 12,
     "metadata": {},
     "output_type": "execute_result"
    }
   ],
   "source": [
    "genres_data"
   ]
  },
  {
   "cell_type": "markdown",
   "metadata": {},
   "source": [
    "**Extracing the info from \"ratings.list\"**"
   ]
  },
  {
   "cell_type": "code",
   "execution_count": 27,
   "metadata": {},
   "outputs": [],
   "source": [
    "with open(\"./data/ratings.list\") as f:\n",
    "    raw_content = f.readlines()\n",
    "    ratings_list = []\n",
    "    content = raw_content[28:]\n",
    "    #print(content)\n",
    "    \n",
    "    for line in content:\n",
    "        m = re.match(r'(?:\\d|\\.|\\*){10}\\s+\\d+\\s+(1?\\d\\.\\d)\\s\"?(.*[^\"])\"? \\(((?:\\d|\\?){4})(?:/\\w*)?\\)', line.strip())\n",
    "        if m is None: continue\n",
    "        ratings_list.append([m.group(2), m.group(3), m.group(1)])\n",
    "        \n",
    "    ratings_data = pd.DataFrame(ratings_list, columns=[\"movie\", 'year', 'rating'])"
   ]
  },
  {
   "cell_type": "markdown",
   "metadata": {},
   "source": [
    "Note that one has to repeat the information extraction procedure for other data files as well if he is interested in their content. For now (and to keep the tutorial simple), we assume that we are only interested in genres and ratings of movies. The above code snippets store the extracted data on these two attributes into two dataframes (namely, genres_list and ratings_list)."
   ]
  },
  {
   "cell_type": "markdown",
   "metadata": {},
   "source": [
    "# 3.Data Profiling & Cleaning"
   ]
  },
  {
   "cell_type": "markdown",
   "metadata": {},
   "source": [
    "The high-level goal in this stage of data prepration is to look into the data that we have acquired and extracted so far. This helps us to get familiar with data, understand in what ways the data needs cleaning or transformation, and finally enables us to prepare the data for the following steps of the data integration task."
   ]
  },
  {
   "cell_type": "code",
   "execution_count": 18,
   "metadata": {},
   "outputs": [],
   "source": [
    "import pandas as pd\n",
    "\n",
    "#Load the Kaggle dataset from the .csv file\n",
    "kaggle_data = pd.read_csv(\"./data/kaggle_dataset.csv\")"
   ]
  },
  {
   "cell_type": "code",
   "execution_count": 28,
   "metadata": {},
   "outputs": [
    {
     "name": "stdout",
     "output_type": "stream",
     "text": [
      "Number of movies in kaggle_data: 5043\n",
      "Number of movies in genres_data: 2658941\n",
      "Number of movies in ratings_data: 789415\n"
     ]
    }
   ],
   "source": [
    "#Let’s start by finding out how many movies are listed in each dataframe.\n",
    "\n",
    "print ('Number of movies in kaggle_data: {}'.format(kaggle_data.shape[0]))\n",
    "print ('Number of movies in genres_data: {}'.format(genres_data.shape[0]))\n",
    "print ('Number of movies in ratings_data: {}'.format(ratings_data.shape[0]))"
   ]
  },
  {
   "cell_type": "code",
   "execution_count": 26,
   "metadata": {
    "scrolled": true
   },
   "outputs": [
    {
     "name": "stdout",
     "output_type": "stream",
     "text": [
      "Number of duplicates in kaggle_data: 241\n",
      "Number of duplicates in genres_data: 2031322\n",
      "Number of duplicates in ratings_data: 342815\n"
     ]
    }
   ],
   "source": [
    "#We can also check to see if we have duplicates (i.e., a movie appearing more than once) in the data. \n",
    "#We consider an entry duplicate if we can find another entry with the same movie title and production year\n",
    "\n",
    "print ('Number of duplicates in kaggle_data: {}'.format(\n",
    "    sum(kaggle_data.duplicated(subset=['movie_title', 'title_year'], keep=False))))\n",
    "\n",
    "print ('Number of duplicates in genres_data: {}'.format(\n",
    "    sum(genres_data.duplicated(subset=['movie', 'year'], keep=False))))\n",
    "       \n",
    "print ('Number of duplicates in ratings_data: {}'.format(\n",
    "    sum(ratings_data.duplicated(subset=['movie', 'year'], keep=False))))"
   ]
  },
  {
   "cell_type": "markdown",
   "metadata": {},
   "source": [
    "**Dealing with Duplicates (cleaning)**\n",
    "\n",
    "One way of dealing with duplicates we are going to use a simple method for dealing with duplicates \n",
    "and that is to only keep the first occurrence of a duplicated entry and remove the rest."
   ]
  },
  {
   "cell_type": "code",
   "execution_count": 33,
   "metadata": {},
   "outputs": [
    {
     "name": "stdout",
     "output_type": "stream",
     "text": [
      "Number of duplicates in kaggle_data: 0\n",
      "Number of duplicates in genres_data: 0\n",
      "Number of duplicates in ratings_data: 0\n"
     ]
    }
   ],
   "source": [
    "#copy so we don't affect the original data\n",
    "kaggle_data = kaggle_data.drop_duplicates(subset=['movie_title', 'title_year'], keep='first').copy()\n",
    "genres_data = genres_data.drop_duplicates(subset=['movie', 'year'], keep='first').copy()\n",
    "ratings_data = ratings_data.drop_duplicates(subset=['movie', 'year'], keep='first').copy()\n",
    "\n",
    "print ('Number of duplicates in kaggle_data: {}'.format(\n",
    "    sum(kaggle_data.duplicated(subset=['movie_title', 'title_year'], keep=False))))\n",
    "\n",
    "print ('Number of duplicates in genres_data: {}'.format(\n",
    "    sum(genres_data.duplicated(subset=['movie', 'year'], keep=False))))\n",
    "       \n",
    "print ('Number of duplicates in ratings_data: {}'.format(\n",
    "    sum(ratings_data.duplicated(subset=['movie', 'year'], keep=False))))"
   ]
  },
  {
   "cell_type": "markdown",
   "metadata": {},
   "source": [
    "**Normalizing the text (cleaning)**\n",
    "\n",
    "The key attribute that we will use to integrate our movie datasets is the movie titles. So it is important to normalize these titles. The following code snippet makes all movie titles lower case, and then removes certain characters such as “‘” and “?”, and replaces some other special characters (e.g., “&” is replaced with “and”)."
   ]
  },
  {
   "cell_type": "code",
   "execution_count": 34,
   "metadata": {},
   "outputs": [],
   "source": [
    "def preprocess_title(title):\n",
    "    title = title.lower()\n",
    "    title = title.replace(\"?\", '')\n",
    "    title = title.replace(',', '')\n",
    "    title = title.replace(\"'\", '') \n",
    "    title = title.replace('&', 'and')\n",
    "    title = title.replace('utf-8', 'ignore')\n",
    "    return title.strip()\n",
    "\n",
    "kaggle_data['norm_movie_title'] = kaggle_data['movie_title'].map(preprocess_title)\n",
    "genres_data['norm_movie'] = genres_data['movie'].map(preprocess_title)\n",
    "ratings_data['norm_movie'] = ratings_data['movie'].map(preprocess_title)\n",
    "\n",
    "#Created a new column with the normalized movie names "
   ]
  },
  {
   "cell_type": "code",
   "execution_count": 41,
   "metadata": {
    "scrolled": true
   },
   "outputs": [
    {
     "name": "stdout",
     "output_type": "stream",
     "text": [
      "4422       Unsullied \n",
      "1022       Fair Game \n",
      "3631    The Wackness \n",
      "Name: movie_title, dtype: object\n"
     ]
    },
    {
     "data": {
      "text/plain": [
       "4422       unsullied\n",
       "1022       fair game\n",
       "3631    the wackness\n",
       "Name: norm_movie_title, dtype: object"
      ]
     },
     "execution_count": 41,
     "metadata": {},
     "output_type": "execute_result"
    }
   ],
   "source": [
    "print(kaggle_data['movie_title'].sample(3,random_state=0))\n",
    "kaggle_data['norm_movie_title'].sample(3, random_state=0)"
   ]
  },
  {
   "cell_type": "code",
   "execution_count": 42,
   "metadata": {},
   "outputs": [
    {
     "data": {
      "text/html": [
       "<div>\n",
       "<style scoped>\n",
       "    .dataframe tbody tr th:only-of-type {\n",
       "        vertical-align: middle;\n",
       "    }\n",
       "\n",
       "    .dataframe tbody tr th {\n",
       "        vertical-align: top;\n",
       "    }\n",
       "\n",
       "    .dataframe thead th {\n",
       "        text-align: right;\n",
       "    }\n",
       "</style>\n",
       "<table border=\"1\" class=\"dataframe\">\n",
       "  <thead>\n",
       "    <tr style=\"text-align: right;\">\n",
       "      <th></th>\n",
       "      <th>color</th>\n",
       "      <th>director_name</th>\n",
       "      <th>num_critic_for_reviews</th>\n",
       "      <th>duration</th>\n",
       "      <th>director_facebook_likes</th>\n",
       "      <th>actor_3_facebook_likes</th>\n",
       "      <th>actor_2_name</th>\n",
       "      <th>actor_1_facebook_likes</th>\n",
       "      <th>gross</th>\n",
       "      <th>genres</th>\n",
       "      <th>...</th>\n",
       "      <th>language</th>\n",
       "      <th>country</th>\n",
       "      <th>content_rating</th>\n",
       "      <th>budget</th>\n",
       "      <th>title_year</th>\n",
       "      <th>actor_2_facebook_likes</th>\n",
       "      <th>imdb_score</th>\n",
       "      <th>aspect_ratio</th>\n",
       "      <th>movie_facebook_likes</th>\n",
       "      <th>norm_movie_title</th>\n",
       "    </tr>\n",
       "  </thead>\n",
       "  <tbody>\n",
       "    <tr>\n",
       "      <th>4422</th>\n",
       "      <td>Color</td>\n",
       "      <td>Simeon Rice</td>\n",
       "      <td>6.0</td>\n",
       "      <td>93.0</td>\n",
       "      <td>6.0</td>\n",
       "      <td>56.0</td>\n",
       "      <td>Lisa Brave</td>\n",
       "      <td>393.0</td>\n",
       "      <td>NaN</td>\n",
       "      <td>Action|Horror|Thriller</td>\n",
       "      <td>...</td>\n",
       "      <td>English</td>\n",
       "      <td>USA</td>\n",
       "      <td>R</td>\n",
       "      <td>1500000.0</td>\n",
       "      <td>2014.0</td>\n",
       "      <td>191.0</td>\n",
       "      <td>5.5</td>\n",
       "      <td>2.35</td>\n",
       "      <td>307</td>\n",
       "      <td>unsullied</td>\n",
       "    </tr>\n",
       "    <tr>\n",
       "      <th>1022</th>\n",
       "      <td>Color</td>\n",
       "      <td>Doug Liman</td>\n",
       "      <td>214.0</td>\n",
       "      <td>108.0</td>\n",
       "      <td>218.0</td>\n",
       "      <td>405.0</td>\n",
       "      <td>Ty Burrell</td>\n",
       "      <td>6000.0</td>\n",
       "      <td>9528092.0</td>\n",
       "      <td>Biography|Drama|Thriller</td>\n",
       "      <td>...</td>\n",
       "      <td>English</td>\n",
       "      <td>USA</td>\n",
       "      <td>PG-13</td>\n",
       "      <td>22000000.0</td>\n",
       "      <td>2010.0</td>\n",
       "      <td>3000.0</td>\n",
       "      <td>6.8</td>\n",
       "      <td>2.35</td>\n",
       "      <td>9000</td>\n",
       "      <td>fair game</td>\n",
       "    </tr>\n",
       "    <tr>\n",
       "      <th>3631</th>\n",
       "      <td>Color</td>\n",
       "      <td>Jonathan Levine</td>\n",
       "      <td>147.0</td>\n",
       "      <td>99.0</td>\n",
       "      <td>129.0</td>\n",
       "      <td>362.0</td>\n",
       "      <td>Aaron Yoo</td>\n",
       "      <td>976.0</td>\n",
       "      <td>2077046.0</td>\n",
       "      <td>Comedy|Drama|Romance</td>\n",
       "      <td>...</td>\n",
       "      <td>English</td>\n",
       "      <td>USA</td>\n",
       "      <td>R</td>\n",
       "      <td>6000000.0</td>\n",
       "      <td>2008.0</td>\n",
       "      <td>617.0</td>\n",
       "      <td>7.0</td>\n",
       "      <td>2.35</td>\n",
       "      <td>0</td>\n",
       "      <td>the wackness</td>\n",
       "    </tr>\n",
       "  </tbody>\n",
       "</table>\n",
       "<p>3 rows × 29 columns</p>\n",
       "</div>"
      ],
      "text/plain": [
       "      color    director_name  num_critic_for_reviews  duration  \\\n",
       "4422  Color      Simeon Rice                     6.0      93.0   \n",
       "1022  Color       Doug Liman                   214.0     108.0   \n",
       "3631  Color  Jonathan Levine                   147.0      99.0   \n",
       "\n",
       "      director_facebook_likes  actor_3_facebook_likes actor_2_name  \\\n",
       "4422                      6.0                    56.0   Lisa Brave   \n",
       "1022                    218.0                   405.0   Ty Burrell   \n",
       "3631                    129.0                   362.0    Aaron Yoo   \n",
       "\n",
       "      actor_1_facebook_likes      gross                    genres  ...  \\\n",
       "4422                   393.0        NaN    Action|Horror|Thriller  ...   \n",
       "1022                  6000.0  9528092.0  Biography|Drama|Thriller  ...   \n",
       "3631                   976.0  2077046.0      Comedy|Drama|Romance  ...   \n",
       "\n",
       "     language country  content_rating      budget title_year  \\\n",
       "4422  English     USA               R   1500000.0     2014.0   \n",
       "1022  English     USA           PG-13  22000000.0     2010.0   \n",
       "3631  English     USA               R   6000000.0     2008.0   \n",
       "\n",
       "      actor_2_facebook_likes imdb_score aspect_ratio  movie_facebook_likes  \\\n",
       "4422                   191.0        5.5         2.35                   307   \n",
       "1022                  3000.0        6.8         2.35                  9000   \n",
       "3631                   617.0        7.0         2.35                     0   \n",
       "\n",
       "     norm_movie_title  \n",
       "4422        unsullied  \n",
       "1022        fair game  \n",
       "3631     the wackness  \n",
       "\n",
       "[3 rows x 29 columns]"
      ]
     },
     "execution_count": 42,
     "metadata": {},
     "output_type": "execute_result"
    }
   ],
   "source": [
    "kaggle_data.sample(3, random_state=0)"
   ]
  },
  {
   "cell_type": "markdown",
   "metadata": {},
   "source": [
    "Looking at the data guides us to decide in what ways we might want to clean the data. For instance, the small sample data shown above, reveals that the title_year attribute is stored as floats (i.e., rational numbers). We can add another cleaning step to transform the title_year into strings and replace the missing title years with symbol “?”."
   ]
  },
  {
   "cell_type": "code",
   "execution_count": 43,
   "metadata": {},
   "outputs": [
    {
     "data": {
      "text/html": [
       "<div>\n",
       "<style scoped>\n",
       "    .dataframe tbody tr th:only-of-type {\n",
       "        vertical-align: middle;\n",
       "    }\n",
       "\n",
       "    .dataframe tbody tr th {\n",
       "        vertical-align: top;\n",
       "    }\n",
       "\n",
       "    .dataframe thead th {\n",
       "        text-align: right;\n",
       "    }\n",
       "</style>\n",
       "<table border=\"1\" class=\"dataframe\">\n",
       "  <thead>\n",
       "    <tr style=\"text-align: right;\">\n",
       "      <th></th>\n",
       "      <th>color</th>\n",
       "      <th>director_name</th>\n",
       "      <th>num_critic_for_reviews</th>\n",
       "      <th>duration</th>\n",
       "      <th>director_facebook_likes</th>\n",
       "      <th>actor_3_facebook_likes</th>\n",
       "      <th>actor_2_name</th>\n",
       "      <th>actor_1_facebook_likes</th>\n",
       "      <th>gross</th>\n",
       "      <th>genres</th>\n",
       "      <th>...</th>\n",
       "      <th>country</th>\n",
       "      <th>content_rating</th>\n",
       "      <th>budget</th>\n",
       "      <th>title_year</th>\n",
       "      <th>actor_2_facebook_likes</th>\n",
       "      <th>imdb_score</th>\n",
       "      <th>aspect_ratio</th>\n",
       "      <th>movie_facebook_likes</th>\n",
       "      <th>norm_movie_title</th>\n",
       "      <th>norm_title_year</th>\n",
       "    </tr>\n",
       "  </thead>\n",
       "  <tbody>\n",
       "    <tr>\n",
       "      <th>0</th>\n",
       "      <td>Color</td>\n",
       "      <td>James Cameron</td>\n",
       "      <td>723.0</td>\n",
       "      <td>178.0</td>\n",
       "      <td>0.0</td>\n",
       "      <td>855.0</td>\n",
       "      <td>Joel David Moore</td>\n",
       "      <td>1000.0</td>\n",
       "      <td>760505847.0</td>\n",
       "      <td>Action|Adventure|Fantasy|Sci-Fi</td>\n",
       "      <td>...</td>\n",
       "      <td>USA</td>\n",
       "      <td>PG-13</td>\n",
       "      <td>237000000.0</td>\n",
       "      <td>2009.0</td>\n",
       "      <td>936.0</td>\n",
       "      <td>7.9</td>\n",
       "      <td>1.78</td>\n",
       "      <td>33000</td>\n",
       "      <td>avatar</td>\n",
       "      <td>2009</td>\n",
       "    </tr>\n",
       "    <tr>\n",
       "      <th>1</th>\n",
       "      <td>Color</td>\n",
       "      <td>Gore Verbinski</td>\n",
       "      <td>302.0</td>\n",
       "      <td>169.0</td>\n",
       "      <td>563.0</td>\n",
       "      <td>1000.0</td>\n",
       "      <td>Orlando Bloom</td>\n",
       "      <td>40000.0</td>\n",
       "      <td>309404152.0</td>\n",
       "      <td>Action|Adventure|Fantasy</td>\n",
       "      <td>...</td>\n",
       "      <td>USA</td>\n",
       "      <td>PG-13</td>\n",
       "      <td>300000000.0</td>\n",
       "      <td>2007.0</td>\n",
       "      <td>5000.0</td>\n",
       "      <td>7.1</td>\n",
       "      <td>2.35</td>\n",
       "      <td>0</td>\n",
       "      <td>pirates of the caribbean: at worlds end</td>\n",
       "      <td>2007</td>\n",
       "    </tr>\n",
       "    <tr>\n",
       "      <th>2</th>\n",
       "      <td>Color</td>\n",
       "      <td>Sam Mendes</td>\n",
       "      <td>602.0</td>\n",
       "      <td>148.0</td>\n",
       "      <td>0.0</td>\n",
       "      <td>161.0</td>\n",
       "      <td>Rory Kinnear</td>\n",
       "      <td>11000.0</td>\n",
       "      <td>200074175.0</td>\n",
       "      <td>Action|Adventure|Thriller</td>\n",
       "      <td>...</td>\n",
       "      <td>UK</td>\n",
       "      <td>PG-13</td>\n",
       "      <td>245000000.0</td>\n",
       "      <td>2015.0</td>\n",
       "      <td>393.0</td>\n",
       "      <td>6.8</td>\n",
       "      <td>2.35</td>\n",
       "      <td>85000</td>\n",
       "      <td>spectre</td>\n",
       "      <td>2015</td>\n",
       "    </tr>\n",
       "    <tr>\n",
       "      <th>3</th>\n",
       "      <td>Color</td>\n",
       "      <td>Christopher Nolan</td>\n",
       "      <td>813.0</td>\n",
       "      <td>164.0</td>\n",
       "      <td>22000.0</td>\n",
       "      <td>23000.0</td>\n",
       "      <td>Christian Bale</td>\n",
       "      <td>27000.0</td>\n",
       "      <td>448130642.0</td>\n",
       "      <td>Action|Thriller</td>\n",
       "      <td>...</td>\n",
       "      <td>USA</td>\n",
       "      <td>PG-13</td>\n",
       "      <td>250000000.0</td>\n",
       "      <td>2012.0</td>\n",
       "      <td>23000.0</td>\n",
       "      <td>8.5</td>\n",
       "      <td>2.35</td>\n",
       "      <td>164000</td>\n",
       "      <td>the dark knight rises</td>\n",
       "      <td>2012</td>\n",
       "    </tr>\n",
       "    <tr>\n",
       "      <th>4</th>\n",
       "      <td>NaN</td>\n",
       "      <td>Doug Walker</td>\n",
       "      <td>NaN</td>\n",
       "      <td>NaN</td>\n",
       "      <td>131.0</td>\n",
       "      <td>NaN</td>\n",
       "      <td>Rob Walker</td>\n",
       "      <td>131.0</td>\n",
       "      <td>NaN</td>\n",
       "      <td>Documentary</td>\n",
       "      <td>...</td>\n",
       "      <td>NaN</td>\n",
       "      <td>NaN</td>\n",
       "      <td>NaN</td>\n",
       "      <td>NaN</td>\n",
       "      <td>12.0</td>\n",
       "      <td>7.1</td>\n",
       "      <td>NaN</td>\n",
       "      <td>0</td>\n",
       "      <td>star wars: episode vii - the force awakens</td>\n",
       "      <td>?</td>\n",
       "    </tr>\n",
       "  </tbody>\n",
       "</table>\n",
       "<p>5 rows × 30 columns</p>\n",
       "</div>"
      ],
      "text/plain": [
       "   color      director_name  num_critic_for_reviews  duration  \\\n",
       "0  Color      James Cameron                   723.0     178.0   \n",
       "1  Color     Gore Verbinski                   302.0     169.0   \n",
       "2  Color         Sam Mendes                   602.0     148.0   \n",
       "3  Color  Christopher Nolan                   813.0     164.0   \n",
       "4    NaN        Doug Walker                     NaN       NaN   \n",
       "\n",
       "   director_facebook_likes  actor_3_facebook_likes      actor_2_name  \\\n",
       "0                      0.0                   855.0  Joel David Moore   \n",
       "1                    563.0                  1000.0     Orlando Bloom   \n",
       "2                      0.0                   161.0      Rory Kinnear   \n",
       "3                  22000.0                 23000.0    Christian Bale   \n",
       "4                    131.0                     NaN        Rob Walker   \n",
       "\n",
       "   actor_1_facebook_likes        gross                           genres  ...  \\\n",
       "0                  1000.0  760505847.0  Action|Adventure|Fantasy|Sci-Fi  ...   \n",
       "1                 40000.0  309404152.0         Action|Adventure|Fantasy  ...   \n",
       "2                 11000.0  200074175.0        Action|Adventure|Thriller  ...   \n",
       "3                 27000.0  448130642.0                  Action|Thriller  ...   \n",
       "4                   131.0          NaN                      Documentary  ...   \n",
       "\n",
       "  country content_rating       budget  title_year actor_2_facebook_likes  \\\n",
       "0     USA          PG-13  237000000.0      2009.0                  936.0   \n",
       "1     USA          PG-13  300000000.0      2007.0                 5000.0   \n",
       "2      UK          PG-13  245000000.0      2015.0                  393.0   \n",
       "3     USA          PG-13  250000000.0      2012.0                23000.0   \n",
       "4     NaN            NaN          NaN         NaN                   12.0   \n",
       "\n",
       "   imdb_score aspect_ratio movie_facebook_likes  \\\n",
       "0         7.9         1.78                33000   \n",
       "1         7.1         2.35                    0   \n",
       "2         6.8         2.35                85000   \n",
       "3         8.5         2.35               164000   \n",
       "4         7.1          NaN                    0   \n",
       "\n",
       "                             norm_movie_title norm_title_year  \n",
       "0                                      avatar            2009  \n",
       "1     pirates of the caribbean: at worlds end            2007  \n",
       "2                                     spectre            2015  \n",
       "3                       the dark knight rises            2012  \n",
       "4  star wars: episode vii - the force awakens               ?  \n",
       "\n",
       "[5 rows x 30 columns]"
      ]
     },
     "execution_count": 43,
     "metadata": {},
     "output_type": "execute_result"
    }
   ],
   "source": [
    "def preprocess_year(year):\n",
    "    if pd.isnull(year):\n",
    "        return '?'\n",
    "    else:\n",
    "        return str(int(year))\n",
    "    \n",
    "kaggle_data['norm_title_year'] = kaggle_data['title_year'].map(preprocess_year)\n",
    "kaggle_data.head()"
   ]
  },
  {
   "cell_type": "markdown",
   "metadata": {},
   "source": [
    "# 4.Data Matching & Merging"
   ]
  },
  {
   "cell_type": "code",
   "execution_count": null,
   "metadata": {},
   "outputs": [],
   "source": []
  }
 ],
 "metadata": {
  "kernelspec": {
   "display_name": "Python 3",
   "language": "python",
   "name": "python3"
  }
 },
 "nbformat": 4,
 "nbformat_minor": 4
}
