{
 "cells": [
  {
   "cell_type": "markdown",
   "metadata": {},
   "source": [
    "# Data Acquistion"
   ]
  },
  {
   "cell_type": "code",
   "execution_count": 18,
   "metadata": {},
   "outputs": [],
   "source": [
    "import urllib.request\n",
    "import os\n",
    "\n",
    "#Creating data folder\n",
    "if not os.path.exists('./data'):\n",
    "    os.makedirs('./data')\n",
    "    \n",
    "# Downloading dataset using the url that hosts it\n",
    "kaggle_url = 'https://github.com/sundeepblue/movie_rating_prediction/raw/master/movie_metadata.csv'\n",
    "if not os.path.exists('/data/kaggle_dataset.csv'):\n",
    "    data = urllib.request.urlretrieve(kaggle_url, './data/kaggle_dataset.csv')\n",
    "\n",
    " "
   ]
  },
  {
   "cell_type": "code",
   "execution_count": 68,
   "metadata": {},
   "outputs": [],
   "source": [
    "import gzip\n",
    "\n",
    "#Obtaining IMDB's text files that are zipped winrar\n",
    "imdb_url_prefix = 'https://ftp.funet.fi/pub/mirrors/ftp.imdb.com/pub/frozendata/'\n",
    "imdb_files_list = ['genres.list.gz', 'ratings.list.gz']\n",
    "\n",
    "for name in imdb_files_list:\n",
    "    if not os.path.exists('./data/' + name):\n",
    "        data = urllib.request.urlretrieve(imdb_url_prefix + name, './data/' + name)\n",
    "        urllib.request.urlcleanup() # urllib fails to download two files from a ftp source. This fixes the bug!\n",
    "        with gzip.open('./data/' + name, 'rb') as comp_file, open('./data/' + name[:-3], 'wb') as reg_file:   #'w' alone doesn't work because you are reading binary, so you have to write binary, so use 'wb'\n",
    "            file_content = comp_file.read()\n",
    "            reg_file.write(file_content)\n",
    "            \n",
    "# Error WHY DO I HAVE TO RUN THIS TWICE< IT WONT DOWNLOAD BOTH FILES SAME TIME"
   ]
  },
  {
   "cell_type": "code",
   "execution_count": 71,
   "metadata": {},
   "outputs": [],
   "source": [
    "imdb_url = 'https://anaconda.org/BigGorilla/datasets/1/download/imdb_dataset.csv'\n",
    "\n",
    "if not os.path.exists('./data/imdb_dataset.csv'):  #Avoids downloading if it already exists\n",
    "    headers = {'User-Agent':'Mozilla/5.0 (Windows NT 6.1; WOW64; rv:23.0) Gecko/20100101 Firefox/23.0'}\n",
    "    req = urllib.request.Request(url=imdb_url, headers=headers) #To fix HTTP error 403: Forbidden\n",
    "    data = urllib.request.urlopen(req).read()\n",
    "    \n",
    "    with open(\"./data/imdb_dataset.csv\", \"wb\") as f:\n",
    "        f.write(data)"
   ]
  },
  {
   "cell_type": "markdown",
   "metadata": {},
   "source": [
    "# Data Extraction"
   ]
  },
  {
   "cell_type": "markdown",
   "metadata": {},
   "source": [
    "The “Kaggle 5000 Movie Dataset” is stored in a .csv file which is already structured and ready to use. On the other hand, the “IMDB Plain Text Data” is a collection of semi-structured text files that need to be processed to extract the data. A quick look at the first few lines of each files shows that each file has a different format and has to be handled separately."
   ]
  },
  {
   "cell_type": "markdown",
   "metadata": {},
   "source": [
    "**Contents of \"ratings.list\" file**"
   ]
  },
  {
   "cell_type": "code",
   "execution_count": 75,
   "metadata": {
    "scrolled": true
   },
   "outputs": [
    {
     "name": "stdout",
     "output_type": "stream",
     "text": [
      "      0000000125  1888533   9.2  The Shawshank Redemption (1994)\n",
      "      0000000125  1289428   9.2  The Godfather (1972)\n",
      "      0000000124  889607   9.0  The Godfather: Part II (1974)\n",
      "      0000000124  1864164   9.0  The Dark Knight (2008)\n",
      "      0000000133  518449   8.9  12 Angry Men (1957)\n",
      "      0000000133  971107   8.9  Schindler's List (1993)\n",
      "      0000000123  1477112   8.9  Pulp Fiction (1994)\n",
      "      0000000124  1349449   8.9  The Lord of the Rings: The Return of the King (2003)\n",
      "      0000000123  559468   8.8  Il buono, il brutto, il cattivo (1966)\n",
      "      0000000133  1513600   8.8  Fight Club (1999)\n",
      "\n"
     ]
    }
   ],
   "source": [
    "with open(\"./data/ratings.list\") as f:\n",
    "    head = [next(f) for x in range(38)]\n",
    "print(''.join(head[28:38]))  #Skip the first 28 lines cuz they are descriptive headers"
   ]
  },
  {
   "cell_type": "markdown",
   "metadata": {},
   "source": [
    "**Conents of \"genres.list\" file**"
   ]
  },
  {
   "cell_type": "code",
   "execution_count": 78,
   "metadata": {},
   "outputs": [
    {
     "name": "stdout",
     "output_type": "stream",
     "text": [
      "==================\n",
      "\n",
      "\"!Next?\" (1994)\t\t\t\t\t\tDocumentary\n",
      "\"#1 Single\" (2006)\t\t\t\t\tReality-TV\n",
      "\"#15SecondScare\" (2015)\t\t\t\t\tHorror\n",
      "\"#15SecondScare\" (2015)\t\t\t\t\tShort\n",
      "\"#15SecondScare\" (2015)\t\t\t\t\tThriller\n",
      "\"#15SecondScare\" (2015) {Who Wants to Play with the Rabbit? (#1.2)}\tDrama\n",
      "\"#15SecondScare\" (2015) {Who Wants to Play with the Rabbit? (#1.2)}\tHorror\n",
      "\"#15SecondScare\" (2015) {Who Wants to Play with the Rabbit? (#1.2)}\tShort\n",
      "\n"
     ]
    }
   ],
   "source": [
    "with open('./data/genres.list') as f:\n",
    "    head = [next(f) for x in range(392)]\n",
    "print(''.join(head[382:392]))  # skipping the first 382 lines as they are descriptive header"
   ]
  },
  {
   "cell_type": "markdown",
   "metadata": {},
   "source": [
    "**Extracing info from \"genres.list\"**"
   ]
  },
  {
   "cell_type": "code",
   "execution_count": 116,
   "metadata": {},
   "outputs": [
    {
     "name": "stdout",
     "output_type": "stream",
     "text": [
      "\"!Next?\" (1994) \t\t\t\t\t\tDocumentary\n",
      "\"#1 Single\" (2006) \t\t\t\t\tReality\n",
      "\"#15SecondScare\" (2015) \t\t\t\t\tHorror\n",
      "\"#15SecondScare\" (2015) \t\t\t\t\tShort\n",
      "\"#15SecondScare\" (2015) \t\t\t\t\tThriller\n"
     ]
    },
    {
     "ename": "AttributeError",
     "evalue": "'NoneType' object has no attribute 'group'",
     "output_type": "error",
     "traceback": [
      "\u001b[1;31m---------------------------------------------------------------------------\u001b[0m",
      "\u001b[1;31mAttributeError\u001b[0m                            Traceback (most recent call last)",
      "\u001b[1;32m<ipython-input-116-25b5e3f6b5db>\u001b[0m in \u001b[0;36m<module>\u001b[1;34m\u001b[0m\n\u001b[0;32m     11\u001b[0m         \u001b[1;31m#print(line)\u001b[0m\u001b[1;33m\u001b[0m\u001b[1;33m\u001b[0m\u001b[1;33m\u001b[0m\u001b[0m\n\u001b[0;32m     12\u001b[0m         \u001b[0mm\u001b[0m \u001b[1;33m=\u001b[0m \u001b[0mre\u001b[0m\u001b[1;33m.\u001b[0m\u001b[0mmatch\u001b[0m\u001b[1;33m(\u001b[0m\u001b[1;34mr'(\"[^\"]*\") (\\([^)]*\\))(\\s+[a-zA-Z]+)'\u001b[0m\u001b[1;33m,\u001b[0m \u001b[0mline\u001b[0m\u001b[1;33m.\u001b[0m\u001b[0mstrip\u001b[0m\u001b[1;33m(\u001b[0m\u001b[1;33m)\u001b[0m\u001b[1;33m)\u001b[0m\u001b[1;33m\u001b[0m\u001b[1;33m\u001b[0m\u001b[0m\n\u001b[1;32m---> 13\u001b[1;33m         \u001b[0mprint\u001b[0m\u001b[1;33m(\u001b[0m\u001b[0mm\u001b[0m\u001b[1;33m.\u001b[0m\u001b[0mgroup\u001b[0m\u001b[1;33m(\u001b[0m\u001b[1;36m1\u001b[0m\u001b[1;33m)\u001b[0m\u001b[1;33m,\u001b[0m \u001b[0mm\u001b[0m\u001b[1;33m.\u001b[0m\u001b[0mgroup\u001b[0m\u001b[1;33m(\u001b[0m\u001b[1;36m2\u001b[0m\u001b[1;33m)\u001b[0m\u001b[1;33m,\u001b[0m \u001b[0mm\u001b[0m\u001b[1;33m.\u001b[0m\u001b[0mgroup\u001b[0m\u001b[1;33m(\u001b[0m\u001b[1;36m3\u001b[0m\u001b[1;33m)\u001b[0m\u001b[1;33m)\u001b[0m\u001b[1;33m\u001b[0m\u001b[1;33m\u001b[0m\u001b[0m\n\u001b[0m\u001b[0;32m     14\u001b[0m         \u001b[1;31m#genres_list.append([m.group(1), m.group(2), m.group(3)])\u001b[0m\u001b[1;33m\u001b[0m\u001b[1;33m\u001b[0m\u001b[1;33m\u001b[0m\u001b[0m\n\u001b[0;32m     15\u001b[0m \u001b[1;33m\u001b[0m\u001b[0m\n",
      "\u001b[1;31mAttributeError\u001b[0m: 'NoneType' object has no attribute 'group'"
     ]
    }
   ],
   "source": [
    "import re\n",
    "import pandas as pd\n",
    "\n",
    "with open(\"data/genres.list\") as f:\n",
    "    raw_data = f.readlines()\n",
    "    genres_list = []\n",
    "    content = raw_data[384:]\n",
    "    #print(content[0])\n",
    "    \n",
    "    for line in content:\n",
    "        #print(line)\n",
    "        m = re.match(r'(\"[^\"]*\") (\\([^)]*\\))(\\s+[a-zA-Z]+)', line.strip())\n",
    "        print(m.group(1), m.group(2), m.group(3))\n",
    "        #genres_list.append([m.group(1), m.group(2), m.group(3)])\n",
    "    \n",
    "    genres_data = pd.DataFrame(genres_list, columns=['movie', 'year', 'genre'])"
   ]
  },
  {
   "cell_type": "code",
   "execution_count": null,
   "metadata": {},
   "outputs": [],
   "source": []
  }
 ],
 "metadata": {
  "kernelspec": {
   "display_name": "Python 3",
   "language": "python",
   "name": "python3"
  },
  "language_info": {
   "codemirror_mode": {
    "name": "ipython",
    "version": 3
   },
   "file_extension": ".py",
   "mimetype": "text/x-python",
   "name": "python",
   "nbconvert_exporter": "python",
   "pygments_lexer": "ipython3",
   "version": "3.8.5"
  }
 },
 "nbformat": 4,
 "nbformat_minor": 4
}
